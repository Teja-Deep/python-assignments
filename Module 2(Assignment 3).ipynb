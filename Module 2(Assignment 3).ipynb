{
 "cells": [
  {
   "cell_type": "markdown",
   "metadata": {},
   "source": [
    "1.Write a Python program to find area of a circle using math function."
   ]
  },
  {
   "cell_type": "code",
   "execution_count": 1,
   "metadata": {},
   "outputs": [
    {
     "name": "stdout",
     "output_type": "stream",
     "text": [
      "Enter the radius of the circle: 5\n",
      "78.53981633974483\n"
     ]
    }
   ],
   "source": [
    "import math\n",
    "r = float(input(\"Enter the radius of the circle: \"))\n",
    "area = math.pi* r * r\n",
    "print(area)"
   ]
  },
  {
   "cell_type": "markdown",
   "metadata": {},
   "source": [
    "2.Write a program to find Area of Regular Polygon using math function."
   ]
  },
  {
   "cell_type": "code",
   "execution_count": 2,
   "metadata": {},
   "outputs": [
    {
     "name": "stdout",
     "output_type": "stream",
     "text": [
      "Input number of sides: 4\n",
      "Input the length of a side: 4\n",
      "The area of the polygon is:  16.000000000000004\n"
     ]
    }
   ],
   "source": [
    "from math import tan,pi\n",
    "n = int(input(\"Input number of sides: \"))\n",
    "length = float(input(\"Input the length of a side: \"))\n",
    "area = n * (length**2) / (4 * tan(pi / n))\n",
    "print(\"The area of the polygon is: \",area)"
   ]
  },
  {
   "cell_type": "markdown",
   "metadata": {},
   "source": [
    "3.Write a program to find Area of a Segment of a Circle Formula using math function."
   ]
  },
  {
   "cell_type": "code",
   "execution_count": 3,
   "metadata": {},
   "outputs": [
    {
     "name": "stdout",
     "output_type": "stream",
     "text": [
      "enter the radius5\n",
      "enter the angle45\n",
      "area of minor segment= 0.9786422776362613\n",
      "area of major segment= 77.56117406210858\n"
     ]
    }
   ],
   "source": [
    "import math\n",
    "def segmentarea(r,angle):\n",
    "    areaofsector = pi * (r * r) * (angle / 360) \n",
    "    areaoftriangle = 1 / 2 *(r * r) *math.sin((angle * pi) / 180) \n",
    "  \n",
    "    return areaofsector - areaoftriangle; \n",
    "r=int(input(\"enter the radius\"))\n",
    "angle=int(input(\"enter the angle\"))\n",
    "print(\"area of minor segment=\",segmentarea(r,angle))\n",
    "print(\"area of major segment=\",segmentarea(r,(360-angle)))"
   ]
  },
  {
   "cell_type": "markdown",
   "metadata": {},
   "source": [
    "4.Write a python program to shuffle list l1=[100,1,2,3,30,40,”hai”,”hello”]."
   ]
  },
  {
   "cell_type": "code",
   "execution_count": 4,
   "metadata": {},
   "outputs": [
    {
     "name": "stdout",
     "output_type": "stream",
     "text": [
      "[30, 'hai', 3, 'hello', 1, 40, 100, 2]\n"
     ]
    }
   ],
   "source": [
    "from random import shuffle\n",
    "l1 = [100,1,2,3,30,40,\"hai\",\"hello\"]\n",
    "shuffle(l1)\n",
    "print(l1)"
   ]
  },
  {
   "cell_type": "markdown",
   "metadata": {},
   "source": [
    "4.Write a program to generate random numbers between 1,10000 and difference between each random number is 50."
   ]
  },
  {
   "cell_type": "code",
   "execution_count": 5,
   "metadata": {},
   "outputs": [
    {
     "name": "stdout",
     "output_type": "stream",
     "text": [
      "174\n",
      "224\n",
      "274\n",
      "324\n",
      "374\n",
      "424\n",
      "474\n",
      "524\n",
      "574\n",
      "624\n",
      "674\n",
      "724\n",
      "774\n",
      "824\n",
      "874\n",
      "924\n",
      "974\n",
      "1024\n"
     ]
    }
   ],
   "source": [
    "import random\n",
    "n = random.randint(1,1000)\n",
    "print(n)\n",
    "\n",
    "while(n<1000):\n",
    "    n=n+50\n",
    "    print(n)"
   ]
  },
  {
   "cell_type": "markdown",
   "metadata": {},
   "source": [
    "5.Write a python program by using math module to find\n",
    "\n",
    "a.sin 60"
   ]
  },
  {
   "cell_type": "code",
   "execution_count": 6,
   "metadata": {},
   "outputs": [
    {
     "name": "stdout",
     "output_type": "stream",
     "text": [
      "-0.3048106211022167\n"
     ]
    }
   ],
   "source": [
    "import math\n",
    "sine=math.sin(60)\n",
    "print(sine)"
   ]
  },
  {
   "cell_type": "markdown",
   "metadata": {},
   "source": [
    "b.cos(pi)"
   ]
  },
  {
   "cell_type": "code",
   "execution_count": 7,
   "metadata": {},
   "outputs": [
    {
     "name": "stdout",
     "output_type": "stream",
     "text": [
      "-1.0\n"
     ]
    }
   ],
   "source": [
    "import math\n",
    "co=math.cos(pi)\n",
    "print(co)"
   ]
  },
  {
   "cell_type": "markdown",
   "metadata": {},
   "source": [
    "c.tan(90)"
   ]
  },
  {
   "cell_type": "code",
   "execution_count": 8,
   "metadata": {},
   "outputs": [
    {
     "name": "stdout",
     "output_type": "stream",
     "text": [
      "-1.995200412208242\n"
     ]
    }
   ],
   "source": [
    "import math\n",
    "ta=math.tan(90)\n",
    "print(ta)"
   ]
  },
  {
   "cell_type": "markdown",
   "metadata": {},
   "source": [
    "d.angle of sin(0.8660254037844386)\n"
   ]
  },
  {
   "cell_type": "code",
   "execution_count": 9,
   "metadata": {},
   "outputs": [
    {
     "name": "stdout",
     "output_type": "stream",
     "text": [
      "0.7617599814162892\n"
     ]
    }
   ],
   "source": [
    "import math\n",
    "\n",
    "print(math.sin((0.86602540378443860009)))"
   ]
  },
  {
   "cell_type": "markdown",
   "metadata": {},
   "source": [
    "e.5^8"
   ]
  },
  {
   "cell_type": "code",
   "execution_count": 10,
   "metadata": {},
   "outputs": [
    {
     "name": "stdout",
     "output_type": "stream",
     "text": [
      "390625\n"
     ]
    }
   ],
   "source": [
    "print(5**8)"
   ]
  },
  {
   "cell_type": "markdown",
   "metadata": {},
   "source": [
    "f.Square root of 400"
   ]
  },
  {
   "cell_type": "code",
   "execution_count": 11,
   "metadata": {},
   "outputs": [
    {
     "name": "stdout",
     "output_type": "stream",
     "text": [
      "20.0\n"
     ]
    }
   ],
   "source": [
    "print(400**0.5)"
   ]
  },
  {
   "cell_type": "markdown",
   "metadata": {},
   "source": [
    "g.The value of 5^e"
   ]
  },
  {
   "cell_type": "code",
   "execution_count": 12,
   "metadata": {},
   "outputs": [
    {
     "name": "stdout",
     "output_type": "stream",
     "text": [
      "13.591409142295225\n"
     ]
    }
   ],
   "source": [
    "import math\n",
    "print(5*(math.e))"
   ]
  },
  {
   "cell_type": "markdown",
   "metadata": {},
   "source": [
    "h.The value of Log(1024), base 2"
   ]
  },
  {
   "cell_type": "code",
   "execution_count": 13,
   "metadata": {},
   "outputs": [
    {
     "name": "stdout",
     "output_type": "stream",
     "text": [
      "10.0\n"
     ]
    }
   ],
   "source": [
    "import math\n",
    "print(math.log2(1024))"
   ]
  },
  {
   "cell_type": "markdown",
   "metadata": {},
   "source": [
    "i.The value of Log(1024), base 10\n"
   ]
  },
  {
   "cell_type": "code",
   "execution_count": 14,
   "metadata": {},
   "outputs": [
    {
     "name": "stdout",
     "output_type": "stream",
     "text": [
      "3.010299956639812\n"
     ]
    }
   ],
   "source": [
    "import math\n",
    "print(math.log10(1024))"
   ]
  },
  {
   "cell_type": "markdown",
   "metadata": {},
   "source": [
    "j.The Floor and Ceiling value of 23.56\n"
   ]
  },
  {
   "cell_type": "code",
   "execution_count": 15,
   "metadata": {},
   "outputs": [
    {
     "name": "stdout",
     "output_type": "stream",
     "text": [
      "23\n",
      "24\n"
     ]
    }
   ],
   "source": [
    "import math\n",
    "print(math.floor(23.56))\n",
    "print(math.ceil(23.56))"
   ]
  },
  {
   "cell_type": "code",
   "execution_count": null,
   "metadata": {},
   "outputs": [],
   "source": []
  }
 ],
 "metadata": {
  "kernelspec": {
   "display_name": "Python 3",
   "language": "python",
   "name": "python3"
  },
  "language_info": {
   "codemirror_mode": {
    "name": "ipython",
    "version": 3
   },
   "file_extension": ".py",
   "mimetype": "text/x-python",
   "name": "python",
   "nbconvert_exporter": "python",
   "pygments_lexer": "ipython3",
   "version": "3.6.10"
  }
 },
 "nbformat": 4,
 "nbformat_minor": 4
}
