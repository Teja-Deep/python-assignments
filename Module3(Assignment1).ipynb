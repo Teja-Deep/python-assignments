{
 "cells": [
  {
   "cell_type": "code",
   "execution_count": 6,
   "metadata": {},
   "outputs": [
    {
     "name": "stdout",
     "output_type": "stream",
     "text": [
      "Enter a binary value: 10010\n",
      "The decimal value is 18\n"
     ]
    }
   ],
   "source": [
    "# program to convert binary to decimal\n",
    "bin=list(input('Enter a binary value: '))\n",
    "t=0\n",
    "for i in range(len(bin)):\n",
    "    d=bin.pop()\n",
    "    if d =='1':\n",
    "        t=t+pow(2,i)\n",
    "print(\"The decimal value is\",t) "
   ]
  },
  {
   "cell_type": "code",
   "execution_count": 4,
   "metadata": {},
   "outputs": [
    {
     "name": "stdout",
     "output_type": "stream",
     "text": [
      "Enter how many numbers to print12\n",
      "The fibonacci series till 12 is\n",
      "\n",
      "0\n",
      "1\n",
      "1\n",
      "2\n",
      "3\n",
      "5\n",
      "8\n",
      "13\n",
      "21\n",
      "34\n",
      "55\n",
      "89\n"
     ]
    }
   ],
   "source": [
    "# program to generate fibonacci series\n",
    "n=int(input('Enter how many numbers to print'))\n",
    "f1=f3=0\n",
    "f2=1\n",
    "print(\"The fibonacci series till\",n,\"is\\n\")\n",
    "print(f1)\n",
    "print(f2)\n",
    "while(n>2):\n",
    "    f3=f1+f2\n",
    "    f1=f2\n",
    "    f2=f3\n",
    "    n-=1\n",
    "    print(f3)"
   ]
  },
  {
   "cell_type": "code",
   "execution_count": 1,
   "metadata": {},
   "outputs": [
    {
     "name": "stdout",
     "output_type": "stream",
     "text": [
      "Enter a number to display its multiplication table4\n",
      "4 * 1 = 4\n",
      "4 * 2 = 8\n",
      "4 * 3 = 12\n",
      "4 * 4 = 16\n",
      "4 * 5 = 20\n",
      "4 * 6 = 24\n",
      "4 * 7 = 28\n",
      "4 * 8 = 32\n",
      "4 * 9 = 36\n",
      "4 * 10 = 40\n",
      "4 * 11 = 44\n",
      "4 * 12 = 48\n"
     ]
    }
   ],
   "source": [
    "# program to print multiplication table of given number\n",
    "n=int(input('Enter a number to display its multiplication table'))\n",
    "i=1\n",
    "while i<=12:\n",
    "    print(n,\"*\",i,\"=\",n*i)\n",
    "    i+=1"
   ]
  },
  {
   "cell_type": "code",
   "execution_count": 3,
   "metadata": {},
   "outputs": [
    {
     "name": "stdout",
     "output_type": "stream",
     "text": [
      "enter a number: 1\n",
      "enter a number: 2\n",
      "enter a number: 3\n",
      "enter a number: 4\n",
      "enter a number: 5\n",
      "enter a number: 2\n",
      "enter a number: 3\n",
      "enter a number: 4\n",
      "enter a number: 5\n",
      "enter a number: 3\n",
      "3.2\n",
      "*\n",
      "**\n",
      "***\n",
      "****\n",
      "*****\n"
     ]
    }
   ],
   "source": [
    "# program to print average of 10 numbers and the pyramid of stars\n",
    "sum=j=0\n",
    "while j<10:\n",
    "    i=int(input('enter a number: '))\n",
    "    sum=sum+i\n",
    "    j+=1\n",
    "avg=sum/j  \n",
    "print(avg)\n",
    "i=j=1\n",
    "while i<=5:\n",
    "    while j<=i:\n",
    "        print('*' * i)\n",
    "        j+=1\n",
    "    i+=1"
   ]
  },
  {
   "cell_type": "code",
   "execution_count": 3,
   "metadata": {},
   "outputs": [
    {
     "name": "stdout",
     "output_type": "stream",
     "text": [
      "Enter 1st number: 15\n",
      "Enter 2nd number: 85\n",
      "GCD of the entered numbers is 5\n"
     ]
    }
   ],
   "source": [
    "# program to find GCD of two numbers\n",
    "x=float(input('Enter 1st number: '))\n",
    "y=float(input('Enter 2nd number: '))\n",
    "i=1\n",
    "while(i<=x and i<=y):\n",
    "    if(x % i==0 and y % i==0):\n",
    "        gcd=i\n",
    "    i+=1\n",
    "print(\"GCD of the entered numbers is\",gcd)"
   ]
  },
  {
   "cell_type": "code",
   "execution_count": 5,
   "metadata": {},
   "outputs": [
    {
     "name": "stdout",
     "output_type": "stream",
     "text": [
      "Enter a string: programmimg\n",
      "Reverse of the string is: gmimmargorp\n"
     ]
    }
   ],
   "source": [
    "# program to take a word from user and reverse it\n",
    "def rev(r_str):\n",
    "    s=\"\"\n",
    "    for ch in r_str:\n",
    "        s=ch+s\n",
    "    return s\n",
    "a=str(input('Enter a string: '))\n",
    "print(\"Reverse of the string is:\",rev(a))"
   ]
  },
  {
   "cell_type": "code",
   "execution_count": 6,
   "metadata": {},
   "outputs": [
    {
     "name": "stdout",
     "output_type": "stream",
     "text": [
      "Enter how many numbers in list: 9\n",
      "Enter a number: 6\n",
      "Enter a number: 3\n",
      "Enter a number: 8\n",
      "Enter a number: 4\n",
      "Enter a number: 8\n",
      "Enter a number: 1\n",
      "Enter a number: 0\n",
      "Enter a number: 2\n",
      "Enter a number: 5\n",
      "Even numbers in the list= 6\n",
      "Odd numbers in the list= 3\n"
     ]
    }
   ],
   "source": [
    "# program to find no.of even numbers and odd numbers in a series of numbers\n",
    "n=int(input('Enter how many numbers in list: '))\n",
    "l=[]\n",
    "for i in range(0,n):\n",
    "    e=float(input('Enter a number: '))\n",
    "    l.append(e)\n",
    "e=o=0\n",
    "for i in l:\n",
    "    if i%2==0:\n",
    "        e+=1\n",
    "    else:\n",
    "        o+=1\n",
    "print(\"Even numbers in the list=\",e)\n",
    "print(\"Odd numbers in the list=\",o)"
   ]
  },
  {
   "cell_type": "code",
   "execution_count": 12,
   "metadata": {},
   "outputs": [
    {
     "name": "stdout",
     "output_type": "stream",
     "text": [
      "0\n",
      "1\n",
      "2\n",
      "4\n",
      "5\n"
     ]
    }
   ],
   "source": [
    "# program to print all numbers from 0 to 6 except 3 and 6\n",
    "for i in range(0,7):\n",
    "    if i!=3 and i!=6:\n",
    "        print(i)"
   ]
  }
 ],
 "metadata": {
  "kernelspec": {
   "display_name": "Python 3",
   "language": "python",
   "name": "python3"
  },
  "language_info": {
   "codemirror_mode": {
    "name": "ipython",
    "version": 3
   },
   "file_extension": ".py",
   "mimetype": "text/x-python",
   "name": "python",
   "nbconvert_exporter": "python",
   "pygments_lexer": "ipython3",
   "version": "3.7.6"
  }
 },
 "nbformat": 4,
 "nbformat_minor": 4
}
