{
 "cells": [
  {
   "cell_type": "markdown",
   "metadata": {},
   "source": [
    "### 1.write a python program to read an entire text file."
   ]
  },
  {
   "cell_type": "code",
   "execution_count": 1,
   "metadata": {
    "scrolled": true
   },
   "outputs": [
    {
     "name": "stdout",
     "output_type": "stream",
     "text": [
      "enter the file name:abc.txt\n",
      "GITAM UNIVERSITY\n",
      "BANGALORE\n",
      "VIZAG\n",
      "HYDERABAD\n",
      "COOL CLIMATE\n",
      "PYTHON\n",
      "JAVA\n",
      "\n"
     ]
    }
   ],
   "source": [
    "def read(a):\n",
    "        txt = open(a)\n",
    "        print(txt.read())\n",
    "a=input(\"enter the file name:\")\n",
    "read(a)"
   ]
  },
  {
   "cell_type": "markdown",
   "metadata": {},
   "source": [
    "### 2.Write a python program to read first n lines of a file"
   ]
  },
  {
   "cell_type": "code",
   "execution_count": 2,
   "metadata": {},
   "outputs": [
    {
     "name": "stdout",
     "output_type": "stream",
     "text": [
      "enter the file name:abc.txt\n",
      "GITAM UNIVERSITY\n",
      "BANGALORE\n"
     ]
    }
   ],
   "source": [
    "def readfirst(a, n):\n",
    "        from itertools import islice\n",
    "        with open(a) as f:\n",
    "                for l in islice(f,n):\n",
    "                        print(l,end ='')\n",
    "a=input(\"enter the file name:\")\n",
    "readfirst(a,2)"
   ]
  },
  {
   "cell_type": "markdown",
   "metadata": {},
   "source": [
    "### 3.Write a Python program to append text to a file and display the text.\n"
   ]
  },
  {
   "cell_type": "code",
   "execution_count": 3,
   "metadata": {},
   "outputs": [
    {
     "name": "stdout",
     "output_type": "stream",
     "text": [
      "Python Exercises\n",
      "Java Exercises\n"
     ]
    }
   ],
   "source": [
    "def read(a):\n",
    "        from itertools import islice\n",
    "        with open(a,\"w\") as file:\n",
    "                file.write(\"Python Exercises\\n\")\n",
    "                file.write(\"Java Exercises\")\n",
    "        txt = open(a)\n",
    "        print(txt.read())\n",
    "read('alekhya.txt')"
   ]
  },
  {
   "cell_type": "markdown",
   "metadata": {},
   "source": [
    "### 4.Write a Python program to read last n lines of a file."
   ]
  },
  {
   "cell_type": "code",
   "execution_count": 4,
   "metadata": {},
   "outputs": [
    {
     "name": "stdout",
     "output_type": "stream",
     "text": [
      "enter the file name:abc.txt\n",
      "no of last lines to read:2\n",
      "Last 2 lines from file: abc.txt\n",
      "PYTHON\n",
      "JAVA\n"
     ]
    }
   ],
   "source": [
    "def LastNLines(f,n):\n",
    "    with open(f) as file:\n",
    "        print('Last',n,\"lines from file:\",f)\n",
    "        for line in (file.readlines() [-n:]):\n",
    "            print(line, end='')\n",
    "name=input(\"enter the file name:\" )\n",
    "n= int(input(\"no of last lines to read:\"))\n",
    "try:\n",
    "    LastNLines(name,n)\n",
    "except:\n",
    "    print(\"file error....\")"
   ]
  },
  {
   "cell_type": "markdown",
   "metadata": {},
   "source": [
    "### 5.Write a Python program to read a file line by line store it into a variable."
   ]
  },
  {
   "cell_type": "code",
   "execution_count": 5,
   "metadata": {},
   "outputs": [
    {
     "name": "stdout",
     "output_type": "stream",
     "text": [
      "enter the file name:abc.txt\n",
      "['GITAM UNIVERSITY\\n', 'BANGALORE\\n', 'VIZAG\\n', 'HYDERABAD\\n', 'COOL CLIMATE\\n', 'PYTHON\\n', 'JAVA\\n']\n"
     ]
    }
   ],
   "source": [
    "def read(a):\n",
    "        with open (a) as file:\n",
    "                cse=file.readlines()\n",
    "                print(cse)\n",
    "a=input(\"enter the file name:\")\n",
    "read(a)"
   ]
  },
  {
   "cell_type": "markdown",
   "metadata": {},
   "source": [
    "### 6.Write a Python program to read a file line by line and store it into a list."
   ]
  },
  {
   "cell_type": "code",
   "execution_count": 1,
   "metadata": {},
   "outputs": [
    {
     "name": "stdout",
     "output_type": "stream",
     "text": [
      "enter the file name:abc.txt\n",
      "['GITAM UNIVERSITY\\n', 'BANGALORE\\n', 'VIZAG\\n', 'HYDERABAD\\n', 'COOL CLIMATE\\n', 'PYTHON\\n', 'JAVA\\n']\n"
     ]
    }
   ],
   "source": [
    "def read(a):\n",
    "        with open(a) as file:     \n",
    "                list = file.readlines()\n",
    "                print(list)\n",
    "a=input(\"enter the file name:\")\n",
    "read(a)"
   ]
  },
  {
   "cell_type": "markdown",
   "metadata": {},
   "source": [
    "### 7.write a python program to read a file line by line and store it into array"
   ]
  },
  {
   "cell_type": "code",
   "execution_count": 2,
   "metadata": {},
   "outputs": [
    {
     "name": "stdout",
     "output_type": "stream",
     "text": [
      "['GITAM UNIVERSITY\\n', 'BANGALORE\\n', 'VIZAG\\n', 'HYDERABAD\\n', 'COOL CLIMATE\\n', 'PYTHON\\n', 'JAVA\\n']\n"
     ]
    }
   ],
   "source": [
    "def file_read(fname):\n",
    "    content_array=[]\n",
    "    with open(fname) as f:\n",
    "        for line in f:\n",
    "            content_array.append(line)\n",
    "        print(content_array)\n",
    "file_read(\"abc.txt\")"
   ]
  },
  {
   "cell_type": "markdown",
   "metadata": {},
   "source": [
    "### 8.write a python program to count the number of lines in a text file."
   ]
  },
  {
   "cell_type": "code",
   "execution_count": 3,
   "metadata": {},
   "outputs": [
    {
     "name": "stdout",
     "output_type": "stream",
     "text": [
      "Enter file name: abc.txt\n",
      "Number of lines:\n",
      "7\n"
     ]
    }
   ],
   "source": [
    "fname = input(\"Enter file name: \")\n",
    "num_lines = 0\n",
    "with open(fname, 'r') as f:\n",
    "    for line in f:\n",
    "        num_lines += 1\n",
    "print(\"Number of lines:\")\n",
    "print(num_lines)"
   ]
  },
  {
   "cell_type": "markdown",
   "metadata": {},
   "source": [
    "### 9.write a python program to get the file size of a plain file."
   ]
  },
  {
   "cell_type": "code",
   "execution_count": 4,
   "metadata": {},
   "outputs": [
    {
     "name": "stdout",
     "output_type": "stream",
     "text": [
      "file size in bytes of a plain file: 75\n"
     ]
    }
   ],
   "source": [
    "def file_size(fname):\n",
    "    import os\n",
    "    statinfo =os.stat(fname)\n",
    "    return statinfo.st_size\n",
    "print(\"file size in bytes of a plain file:\",file_size(\"abc.txt\"))"
   ]
  },
  {
   "cell_type": "markdown",
   "metadata": {},
   "source": [
    "### 10.write a python program to copy the contents of a file to another file."
   ]
  },
  {
   "cell_type": "code",
   "execution_count": 2,
   "metadata": {},
   "outputs": [],
   "source": [
    "with open(\"abc.txt\")as f:\n",
    "    with open(\"out.txt\",\"w\")as f1:\n",
    "        for line in f:\n",
    "            f1.write(line)\n"
   ]
  },
  {
   "cell_type": "markdown",
   "metadata": {},
   "source": [
    "###  11.python program to sum all the items in the list\n"
   ]
  },
  {
   "cell_type": "code",
   "execution_count": 7,
   "metadata": {},
   "outputs": [
    {
     "name": "stdout",
     "output_type": "stream",
     "text": [
      "sum of all elements in the list: 50\n"
     ]
    }
   ],
   "source": [
    "total=0\n",
    "list=[1,5,7,9,8,20]\n",
    "for i in range(0,len(list)):\n",
    "    total=total+list[i]\n",
    "print(\"sum of all elements in the list:\",total)"
   ]
  },
  {
   "cell_type": "markdown",
   "metadata": {},
   "source": [
    "### 12.python program to multiply all elements in the list"
   ]
  },
  {
   "cell_type": "code",
   "execution_count": 9,
   "metadata": {},
   "outputs": [
    {
     "name": "stdout",
     "output_type": "stream",
     "text": [
      "24\n"
     ]
    }
   ],
   "source": [
    "def multiply(mylist):\n",
    "    result=1\n",
    "    for x in mylist:\n",
    "        result=result*x\n",
    "    return result\n",
    "list=[3,2,4]\n",
    "print(multiply(list))\n"
   ]
  },
  {
   "cell_type": "code",
   "execution_count": null,
   "metadata": {},
   "outputs": [],
   "source": []
  },
  {
   "cell_type": "markdown",
   "metadata": {},
   "source": [
    "### 13.python program to find largest and smallest number in the list."
   ]
  },
  {
   "cell_type": "code",
   "execution_count": 10,
   "metadata": {},
   "outputs": [
    {
     "name": "stdout",
     "output_type": "stream",
     "text": [
      "the smallest number in the list is: 1\n",
      "the largest number in the list is: 100\n"
     ]
    }
   ],
   "source": [
    "list=[1,78,90,12,100]\n",
    "print(\"the smallest number in the list is:\",min(list))\n",
    "print(\"the largest number in the list is:\",max(list))"
   ]
  },
  {
   "cell_type": "markdown",
   "metadata": {},
   "source": [
    "### 14.python program to remove duplicates from a list."
   ]
  },
  {
   "cell_type": "code",
   "execution_count": 11,
   "metadata": {},
   "outputs": [
    {
     "name": "stdout",
     "output_type": "stream",
     "text": [
      "Enter the number of elements in list:6\n",
      "Enter element1:12\n",
      "Enter element2:4\n",
      "Enter element3:12\n",
      "Enter element4:4\n",
      "Enter element5:9\n",
      "Enter element6:9\n",
      "Non-duplicate items:\n",
      "[12, 4, 9]\n"
     ]
    }
   ],
   "source": [
    "a=[]\n",
    "n= int(input(\"Enter the number of elements in list:\"))\n",
    "for x in range(0,n):\n",
    "    element=int(input(\"Enter element\" + str(x+1) + \":\"))\n",
    "    a.append(element)\n",
    "b = set()\n",
    "unique = []\n",
    "for x in a:\n",
    "    if x not in b:\n",
    "        unique.append(x)\n",
    "        b.add(x)\n",
    "print(\"Non-duplicate items:\")\n",
    "print(unique)"
   ]
  },
  {
   "cell_type": "markdown",
   "metadata": {},
   "source": [
    "### 15.python program to check a list is empty or not."
   ]
  },
  {
   "cell_type": "code",
   "execution_count": 12,
   "metadata": {},
   "outputs": [
    {
     "name": "stdout",
     "output_type": "stream",
     "text": [
      "empty list\n"
     ]
    }
   ],
   "source": [
    "def check(list):\n",
    "    if len(list)== 0:\n",
    "        return 0\n",
    "    else:\n",
    "        return 1\n",
    "list=[]\n",
    "if check(list):\n",
    "    print(\"the list is not empty\")\n",
    "else:\n",
    "    print(\"empty list\")"
   ]
  },
  {
   "cell_type": "markdown",
   "metadata": {},
   "source": [
    "### 16.python program to clone or copy a list."
   ]
  },
  {
   "cell_type": "code",
   "execution_count": 1,
   "metadata": {},
   "outputs": [
    {
     "name": "stdout",
     "output_type": "stream",
     "text": [
      "[20, 3, 4, 5, 6, 8]\n",
      "[20, 3, 4, 5, 6, 8]\n"
     ]
    }
   ],
   "source": [
    "original = [20,3,4,5,6,8]\n",
    "new = list(original)\n",
    "print(original)\n",
    "print(new)"
   ]
  },
  {
   "cell_type": "markdown",
   "metadata": {},
   "source": [
    "### 17.Write a Python program to print a specified list after removing the 0th,4th,5th elements"
   ]
  },
  {
   "cell_type": "code",
   "execution_count": 2,
   "metadata": {},
   "outputs": [
    {
     "name": "stdout",
     "output_type": "stream",
     "text": [
      "['Green', 'White', 'Black']\n"
     ]
    }
   ],
   "source": [
    "l= ['Red', 'Green', 'White', 'Black', 'Pink', 'Yellow']\n",
    "l= [x for (i,x) in enumerate(l) if i not in (0,4,5)]\n",
    "print(l)"
   ]
  },
  {
   "cell_type": "markdown",
   "metadata": {},
   "source": [
    "### 18.Write a python program to print the numbers of a specified list after removing even number form it."
   ]
  },
  {
   "cell_type": "code",
   "execution_count": 3,
   "metadata": {},
   "outputs": [
    {
     "name": "stdout",
     "output_type": "stream",
     "text": [
      "[1, 3, 5, 7, 9]\n"
     ]
    }
   ],
   "source": [
    "a = [0,1,2,3,4,5,6,7,8,9,10]\n",
    "a = [x for x in a if x%2!=0]\n",
    "print(a)"
   ]
  },
  {
   "cell_type": "markdown",
   "metadata": {},
   "source": [
    "### 19.Write a Python program to shuffle and print a specified list."
   ]
  },
  {
   "cell_type": "code",
   "execution_count": 4,
   "metadata": {},
   "outputs": [
    {
     "name": "stdout",
     "output_type": "stream",
     "text": [
      "[78, 3, 99, 56, 45, 1]\n"
     ]
    }
   ],
   "source": [
    "from random import shuffle\n",
    "a = [1,3,45,56,78,99]\n",
    "shuffle(a)\n",
    "print(a)"
   ]
  },
  {
   "cell_type": "markdown",
   "metadata": {},
   "source": [
    "### 20.Write a Python program to get the difference between the two lists."
   ]
  },
  {
   "cell_type": "code",
   "execution_count": 5,
   "metadata": {},
   "outputs": [
    {
     "name": "stdout",
     "output_type": "stream",
     "text": [
      "[8, 2, 6, 1, 43, 4]\n"
     ]
    }
   ],
   "source": [
    "l1 = [2,5,6,8,3]\n",
    "l2=[1,5,3,43,4]\n",
    "diff1 = list(set(l1) - set(l2))\n",
    "diff2= list(set(l2) - set(l1))\n",
    "total = diff1 + diff2\n",
    "print(total)"
   ]
  },
  {
   "cell_type": "code",
   "execution_count": null,
   "metadata": {},
   "outputs": [],
   "source": []
  }
 ],
 "metadata": {
  "kernelspec": {
   "display_name": "Python 3",
   "language": "python",
   "name": "python3"
  },
  "language_info": {
   "codemirror_mode": {
    "name": "ipython",
    "version": 3
   },
   "file_extension": ".py",
   "mimetype": "text/x-python",
   "name": "python",
   "nbconvert_exporter": "python",
   "pygments_lexer": "ipython3",
   "version": "3.7.4"
  }
 },
 "nbformat": 4,
 "nbformat_minor": 2
}
