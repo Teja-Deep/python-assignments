{
 "cells": [
  {
   "cell_type": "code",
   "execution_count": 19,
   "metadata": {},
   "outputs": [
    {
     "name": "stdout",
     "output_type": "stream",
     "text": [
      "Enter a string: python program\n",
      "Length of a string is 14\n"
     ]
    }
   ],
   "source": [
    "# program to calculate the length of a string\n",
    "def strlen(string):\n",
    "    ct=0\n",
    "    for char in string:\n",
    "        ct+=1\n",
    "    return ct\n",
    "string = str(input('Enter a string: '))\n",
    "print(\"Length of a string is\",strlen(string))"
   ]
  },
  {
   "cell_type": "code",
   "execution_count": 11,
   "metadata": {},
   "outputs": [
    {
     "name": "stdout",
     "output_type": "stream",
     "text": [
      "Enter a string: python program\n",
      "No.of characters in the string is {'p': 2, 'y': 1, 't': 1, 'h': 1, 'o': 2, 'n': 1, ' ': 1, 'r': 2, 'g': 1, 'a': 1, 'm': 1}\n"
     ]
    }
   ],
   "source": [
    "# program to count no.of characters in a string(character frequency)\n",
    "def charfre(string):\n",
    "    dict={}\n",
    "    for n in string:\n",
    "        keys=dict.keys()\n",
    "        if n in keys:\n",
    "            dict[n]+=1\n",
    "        else:\n",
    "            dict[n]=1\n",
    "    return dict\n",
    "string = str(input('Enter a string: '))\n",
    "print(\"No.of characters in the string is\",charfre(string))"
   ]
  },
  {
   "cell_type": "code",
   "execution_count": 13,
   "metadata": {},
   "outputs": [
    {
     "name": "stdout",
     "output_type": "stream",
     "text": [
      "Enter 1st string: programming language\n",
      "Enter 2nd number: python\n",
      "python programming language\n"
     ]
    }
   ],
   "source": [
    "# program to get single string from two seperate strings by swapping it\n",
    "def swap(a,b):\n",
    "    n1=b[:20]+a[20:]\n",
    "    n2=a[:20]+b[20:]\n",
    "    return n1+' '+n2\n",
    "a = str(input('Enter 1st string: '))\n",
    "b = str(input('Enter 2nd number: '))\n",
    "print(swap(a,b))"
   ]
  },
  {
   "cell_type": "code",
   "execution_count": 15,
   "metadata": {},
   "outputs": [
    {
     "name": "stdout",
     "output_type": "stream",
     "text": [
      "Enter a string: Programming\n",
      "PROGRAMMING\n",
      "programming\n"
     ]
    }
   ],
   "source": [
    "# program to display the given input in lower and upper case\n",
    "string=str(input(\"Enter a string: \"))\n",
    "print(string.upper())\n",
    "print(string.lower())"
   ]
  },
  {
   "cell_type": "code",
   "execution_count": 1,
   "metadata": {},
   "outputs": [
    {
     "name": "stdout",
     "output_type": "stream",
     "text": [
      "Enter a string:\n",
      "program\n",
      "program\n",
      "program\n"
     ]
    }
   ],
   "source": [
    "# program to remove a newline\n",
    "a=str(input('Enter a string:\\n'))\n",
    "print(a)\n",
    "a=a.rstrip(\"\\n\")\n",
    "print(a)"
   ]
  },
  {
   "cell_type": "code",
   "execution_count": 3,
   "metadata": {},
   "outputs": [
    {
     "name": "stdout",
     "output_type": "stream",
     "text": [
      "Enter a string: this is python which is so easy\n",
      "Enter a sub string: is\n",
      "The count is: 3\n"
     ]
    }
   ],
   "source": [
    "# program to count occurances of substring in a string\n",
    "string=str(input('Enter a string: '))\n",
    "substr=str(input('Enter a sub string: '))\n",
    "count=string.count(substr)\n",
    "print(\"The count is:\",count)"
   ]
  },
  {
   "cell_type": "code",
   "execution_count": 5,
   "metadata": {},
   "outputs": [
    {
     "name": "stdout",
     "output_type": "stream",
     "text": [
      "Enter a string: python is a programming language\n",
      "['python', 'is', 'a', 'programming', 'language']\n"
     ]
    }
   ],
   "source": [
    "# program to convert a string into a list\n",
    "def Convert(string): \n",
    "    a=list(string.split(\" \"))\n",
    "    return a\n",
    "string = str(input('Enter a string: '))\n",
    "print(Convert(string))"
   ]
  },
  {
   "cell_type": "code",
   "execution_count": 6,
   "metadata": {},
   "outputs": [
    {
     "name": "stdout",
     "output_type": "stream",
     "text": [
      "Enter a string: programming language\n",
      "Enter the index of which element to delete:5\n",
      "progrmming language\n"
     ]
    }
   ],
   "source": [
    "# program to perform deletion of a character\n",
    "def rem(string,i):\n",
    "    a=string[ : i]\n",
    "    b=string[i+1: ]\n",
    "    return a+b\n",
    "if __name__ == '__main__':\n",
    "    string=str(input(\"Enter a string: \"))\n",
    "    i=int(input('Enter the index of which element to delete:'))\n",
    "    print(rem(string, i))"
   ]
  },
  {
   "cell_type": "code",
   "execution_count": 7,
   "metadata": {},
   "outputs": [
    {
     "name": "stdout",
     "output_type": "stream",
     "text": [
      "Enter a string: python assignment\n",
      "p\n",
      "y\n",
      "t\n",
      "h\n",
      "o\n",
      "n\n",
      " \n",
      "a\n",
      "s\n",
      "s\n",
      "i\n",
      "g\n",
      "n\n",
      "m\n",
      "e\n",
      "n\n",
      "t\n"
     ]
    }
   ],
   "source": [
    "# program to print every character of a string in newline\n",
    "string=str(input(\"Enter a string: \"))\n",
    "for index,letter in enumerate(string,1):\n",
    "    print(letter)"
   ]
  },
  {
   "cell_type": "code",
   "execution_count": 8,
   "metadata": {},
   "outputs": [
    {
     "name": "stdout",
     "output_type": "stream",
     "text": [
      "The length of string is 12\n"
     ]
    }
   ],
   "source": [
    "# program to find length of 'refrigerator' using len function\n",
    "string=\"refrigerator\"\n",
    "count=0\n",
    "for i in string:\n",
    "    count+=1\n",
    "print(\"The length of string is\",count)"
   ]
  }
 ],
 "metadata": {
  "kernelspec": {
   "display_name": "Python 3",
   "language": "python",
   "name": "python3"
  },
  "language_info": {
   "codemirror_mode": {
    "name": "ipython",
    "version": 3
   },
   "file_extension": ".py",
   "mimetype": "text/x-python",
   "name": "python",
   "nbconvert_exporter": "python",
   "pygments_lexer": "ipython3",
   "version": "3.7.6"
  }
 },
 "nbformat": 4,
 "nbformat_minor": 4
}
