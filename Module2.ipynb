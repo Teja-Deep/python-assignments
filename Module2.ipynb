{
 "cells": [
  {
   "cell_type": "markdown",
   "metadata": {},
   "source": [
    "1.Take two inputs from user and check whether they are equal or not.\n"
   ]
  },
  {
   "cell_type": "code",
   "execution_count": 1,
   "metadata": {},
   "outputs": [
    {
     "name": "stdout",
     "output_type": "stream",
     "text": [
      "Enter the first number: 5\n",
      "Enter the second number: 5\n",
      "Both inputs are equal\n"
     ]
    }
   ],
   "source": [
    "a = input(\"Enter the first number: \")\n",
    "b = input(\"Enter the second number: \")\n",
    "if a == b:\n",
    "  print (\"Both inputs are equal\")\n",
    "else:\n",
    "  print (\" input is not equal.\")"
   ]
  },
  {
   "cell_type": "markdown",
   "metadata": {},
   "source": [
    "2.Take 3 inputs from user and check :\n",
    "A.all are equal"
   ]
  },
  {
   "cell_type": "code",
   "execution_count": 2,
   "metadata": {},
   "outputs": [
    {
     "name": "stdout",
     "output_type": "stream",
     "text": [
      "Enter the first number: 5\n",
      "Enter the second number: 5\n",
      "Both inputs are equal\n"
     ]
    }
   ],
   "source": [
    "a = input(\"Enter the first number: \")\n",
    "b = input(\"Enter the second number: \")\n",
    "if a == b:\n",
    "  print (\"Both inputs are equal\")\n",
    "else:\n",
    "  print (\" input is not equal.\")"
   ]
  },
  {
   "cell_type": "markdown",
   "metadata": {},
   "source": [
    "B.any of two are equal"
   ]
  },
  {
   "cell_type": "code",
   "execution_count": 3,
   "metadata": {},
   "outputs": [
    {
     "name": "stdout",
     "output_type": "stream",
     "text": [
      "enter the first number4\n",
      "enter the second number6\n",
      "enter the third number5\n",
      "All are equal: False\n",
      "Any of two are equal: False\n"
     ]
    }
   ],
   "source": [
    "num1=int(input(\"enter the first number\"))\n",
    "num2=int(input(\"enter the second number\"))\n",
    "num3=int(input(\"enter the third number\"))\n",
    "all = num1 == num2 and num2 == num3 and num3 == num1\n",
    "print (\"All are equal:\",all)\n",
    "any = num1 == num2 or num2 == num3 or num3 == num1\n",
    "print (\"Any of two are equal:\",any)"
   ]
  },
  {
   "cell_type": "markdown",
   "metadata": {},
   "source": [
    "3.Take two number and check whether the sum is greater than 5, less than 5 or equal to 5.\n"
   ]
  },
  {
   "cell_type": "code",
   "execution_count": 4,
   "metadata": {},
   "outputs": [
    {
     "name": "stdout",
     "output_type": "stream",
     "text": [
      "enter a first number5\n",
      "enter a second number5\n",
      "Sum is greater than 5: True\n",
      "Sum is equal to 5: False\n",
      "Sum is lesser than 5: False\n"
     ]
    }
   ],
   "source": [
    "a=int(input(\"enter a first number\"))\n",
    "b=int(input(\"enter a second number\"))\n",
    "sum = a+b\n",
    "print (\"Sum is greater than 5:\",sum>5)\n",
    "print (\"Sum is equal to 5:\",sum==5)\n",
    "print (\"Sum is lesser than 5:\",sum<5)"
   ]
  },
  {
   "cell_type": "markdown",
   "metadata": {},
   "source": [
    "4.Suppose passing marks of a subject is 35. Take input of marks from user and check whether it is greater than passing marks or not."
   ]
  },
  {
   "cell_type": "code",
   "execution_count": 5,
   "metadata": {},
   "outputs": [
    {
     "name": "stdout",
     "output_type": "stream",
     "text": [
      "enter the marks55\n",
      "Marks is greater than passing marks: True\n"
     ]
    }
   ],
   "source": [
    "pm = 35\n",
    "marks = int(input(\"enter the marks\"))\n",
    "print (\"Marks is greater than passing marks:\", marks>pm)"
   ]
  },
  {
   "cell_type": "markdown",
   "metadata": {},
   "source": [
    "5.Write a Python function to find the Max of three numbers\n"
   ]
  },
  {
   "cell_type": "code",
   "execution_count": 6,
   "metadata": {},
   "outputs": [
    {
     "name": "stdout",
     "output_type": "stream",
     "text": [
      "14\n"
     ]
    }
   ],
   "source": [
    "def maximum(a, b, c): \n",
    "  \n",
    "    if (a >= b) and (a >= c): \n",
    "        largest = a \n",
    "  \n",
    "    elif (b >= a) and (b >= c): \n",
    "        largest = b \n",
    "    else: \n",
    "        largest = c \n",
    "          \n",
    "    return largest   \n",
    "a = 10\n",
    "b = 14\n",
    "c = 12\n",
    "print(maximum(a, b, c))"
   ]
  },
  {
   "cell_type": "code",
   "execution_count": null,
   "metadata": {},
   "outputs": [],
   "source": []
  }
 ],
 "metadata": {
  "kernelspec": {
   "display_name": "Python 3",
   "language": "python",
   "name": "python3"
  },
  "language_info": {
   "codemirror_mode": {
    "name": "ipython",
    "version": 3
   },
   "file_extension": ".py",
   "mimetype": "text/x-python",
   "name": "python",
   "nbconvert_exporter": "python",
   "pygments_lexer": "ipython3",
   "version": "3.6.10"
  }
 },
 "nbformat": 4,
 "nbformat_minor": 4
}
