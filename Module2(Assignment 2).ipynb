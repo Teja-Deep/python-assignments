{
 "cells": [
  {
   "cell_type": "markdown",
   "metadata": {},
   "source": [
    "1.Write a Python function to find the Max of three numbers."
   ]
  },
  {
   "cell_type": "code",
   "execution_count": 1,
   "metadata": {},
   "outputs": [
    {
     "name": "stdout",
     "output_type": "stream",
     "text": [
      "enter the number1:15\n",
      "enter the number2:16\n",
      "enter the number3:17\n",
      "17\n"
     ]
    }
   ],
   "source": [
    "def maximum(a, b, c): \n",
    "  \n",
    "    if (a >= b) and (a >= c): \n",
    "        largest = a \n",
    "  \n",
    "    elif (b >= a) and (b >= c): \n",
    "        largest = b \n",
    "    else: \n",
    "        largest = c \n",
    "          \n",
    "    return largest   \n",
    "a = input(\"enter the number1:\")\n",
    "b = input(\"enter the number2:\")\n",
    "c = input(\"enter the number3:\")\n",
    "print(maximum(a, b, c))"
   ]
  },
  {
   "cell_type": "markdown",
   "metadata": {},
   "source": [
    "2.Write a Python program to reverse a string.\n"
   ]
  },
  {
   "cell_type": "code",
   "execution_count": 2,
   "metadata": {},
   "outputs": [
    {
     "name": "stdout",
     "output_type": "stream",
     "text": [
      "enter the stringtheju\n",
      "The original string is:\n",
      "theju\n",
      "The reversed string is:\n",
      "ujeht\n"
     ]
    }
   ],
   "source": [
    "def reverse(s):\n",
    "    if len(s)==0:\n",
    "        return s\n",
    "    else:\n",
    "        return reverse(s[1:])+s[0]\n",
    "s= input('enter the string')\n",
    "print(\"The original string is:\")\n",
    "print(s)\n",
    "print(\"The reversed string is:\")\n",
    "print(reverse(s))"
   ]
  },
  {
   "cell_type": "markdown",
   "metadata": {},
   "source": [
    "3.Write a Python function to check whether the number is prime or not."
   ]
  },
  {
   "cell_type": "code",
   "execution_count": 3,
   "metadata": {},
   "outputs": [
    {
     "name": "stdout",
     "output_type": "stream",
     "text": [
      "enter the number5\n",
      "it is a prime number\n"
     ]
    }
   ],
   "source": [
    "def prime(a):\n",
    "    if a>1:\n",
    "        for i in range(2,a):\n",
    "            if(a%i)==0:\n",
    "                return 0\n",
    "                break\n",
    "            else:\n",
    "                return 1\n",
    "    else:\n",
    "        return 1\n",
    "a=int(input(\"enter the number\"))\n",
    "if(prime(a)):\n",
    "    print(\"it is a prime number\")\n",
    "else:\n",
    "    print(\"it is not a prime number\")"
   ]
  },
  {
   "cell_type": "markdown",
   "metadata": {},
   "source": [
    "4.Use try, except, else and finally block to check whether the number is palindrome or not.(Raise error when input is not proper).\n"
   ]
  },
  {
   "cell_type": "code",
   "execution_count": 4,
   "metadata": {},
   "outputs": [
    {
     "name": "stdout",
     "output_type": "stream",
     "text": [
      "enter the number:545\n",
      "the given number is palindrome\n",
      "this block is always excuted\n"
     ]
    }
   ],
   "source": [
    "num=input(\"enter the number:\")\n",
    "try:\n",
    "    val=int(num)\n",
    "    if num==str(num)[::-1]:\n",
    "        print(\"the given number is palindrome\")\n",
    "    else:\n",
    "        print(\"the given number is not a palindrome\")\n",
    "except ValueError:\n",
    "    print(\"That not a vaild number\")\n",
    "finally:\n",
    "    print(\"this block is always excuted\")"
   ]
  },
  {
   "cell_type": "markdown",
   "metadata": {},
   "source": [
    "5.Write a python function to find sum of squares of first n natural numbers"
   ]
  },
  {
   "cell_type": "code",
   "execution_count": 5,
   "metadata": {},
   "outputs": [
    {
     "name": "stdout",
     "output_type": "stream",
     "text": [
      "enter the number:5\n",
      "55\n"
     ]
    }
   ],
   "source": [
    "def firstnat(n):\n",
    "    sum=0\n",
    "    for i in range(1,n+1):\n",
    "        sum=sum+(i*i)\n",
    "    return sum\n",
    "a=int(input(\"enter the number:\"))\n",
    "print(firstnat(a))"
   ]
  },
  {
   "cell_type": "code",
   "execution_count": null,
   "metadata": {},
   "outputs": [],
   "source": []
  }
 ],
 "metadata": {
  "kernelspec": {
   "display_name": "Python 3",
   "language": "python",
   "name": "python3"
  },
  "language_info": {
   "codemirror_mode": {
    "name": "ipython",
    "version": 3
   },
   "file_extension": ".py",
   "mimetype": "text/x-python",
   "name": "python",
   "nbconvert_exporter": "python",
   "pygments_lexer": "ipython3",
   "version": "3.6.10"
  }
 },
 "nbformat": 4,
 "nbformat_minor": 4
}
