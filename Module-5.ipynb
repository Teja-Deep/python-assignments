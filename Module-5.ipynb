{
 "cells": [
  {
   "cell_type": "markdown",
   "metadata": {},
   "source": [
    "### 1.what is dictionary in python? Explain with an example\n",
    "### A Dictionary is used to map or associate the things you want to store the keys you need to get them. Dictionary are defined into two elements keys and values.keys will be a single element. example of dictionary:\n",
    "### example of dictionary:\n",
    "### d1={\"apple\":1,\"mango\":2,\"pineapple\":4}\n",
    "### apple,mango,banana are keys 1,2,4 are known as values"
   ]
  },
  {
   "cell_type": "markdown",
   "metadata": {},
   "source": [
    "### 2.what is dictionary in python? Explain with an example\n",
    "### A Dictionary is used to map or associate the things you want to store the keys you need to get them. Dictionary are defined into two elements keys and values.keys will be a single element. example of dictionary:\n",
    "### example of dictionary:\n",
    "### d1={\"apple\":1,\"mango\":2,\"pineapple\":4}\n",
    "### apple,mango,banana are keys 1,2,4 are known as values"
   ]
  },
  {
   "cell_type": "markdown",
   "metadata": {},
   "source": [
    "### 3.write a python program to sum all items in a list."
   ]
  },
  {
   "cell_type": "code",
   "execution_count": 1,
   "metadata": {},
   "outputs": [
    {
     "name": "stdout",
     "output_type": "stream",
     "text": [
      "sum of elements in the list is: 100\n"
     ]
    }
   ],
   "source": [
    "sum=0\n",
    "list=[12,3,5,67,3,10]\n",
    "for i in  range(0,len(list)):\n",
    "    sum=sum+list[i]\n",
    "print(\"sum of elements in the list is:\",sum)"
   ]
  },
  {
   "cell_type": "markdown",
   "metadata": {},
   "source": [
    "### 4.write a python program to create a list of empty dictionaries"
   ]
  },
  {
   "cell_type": "code",
   "execution_count": 2,
   "metadata": {},
   "outputs": [
    {
     "name": "stdout",
     "output_type": "stream",
     "text": [
      "[{}, {}, {}]\n"
     ]
    }
   ],
   "source": [
    "n=3\n",
    "l=[{} for _ in range(n)]\n",
    "print(l)"
   ]
  },
  {
   "cell_type": "markdown",
   "metadata": {},
   "source": [
    "### 5.write a python program to access dictionary keys element by index"
   ]
  },
  {
   "cell_type": "code",
   "execution_count": 3,
   "metadata": {},
   "outputs": [
    {
     "name": "stdout",
     "output_type": "stream",
     "text": [
      "original dictionary is:{'alekhya': 32, 'venkat': 12, 'bhanu': 21, 'harika': 36, 'theju': 5}\n",
      "key values are:\n",
      "alekhya\n",
      "venkat\n",
      "bhanu\n",
      "harika\n",
      "theju\n"
     ]
    }
   ],
   "source": [
    "d1={\"alekhya\":32,\"venkat\":12,\"bhanu\":21,\"harika\":36,\"theju\":5}\n",
    "print(\"original dictionary is:\"+str(d1))\n",
    "print(\"key values are:\")\n",
    "for i in d1:\n",
    "    print(i)"
   ]
  },
  {
   "cell_type": "markdown",
   "metadata": {},
   "source": [
    "### 6.python program to iterate over dictionaries using for loop\n"
   ]
  },
  {
   "cell_type": "code",
   "execution_count": 5,
   "metadata": {},
   "outputs": [
    {
     "name": "stdout",
     "output_type": "stream",
     "text": [
      "alekhya 32\n",
      "venkat 12\n",
      "bhanu 21\n",
      "harika 36\n",
      "theju 5\n"
     ]
    }
   ],
   "source": [
    "d1={\"alekhya\":32,\"venkat\":12,\"bhanu\":21,\"harika\":36,\"theju\":5}\n",
    "for k,v in d1.items():\n",
    "    print(k,v)"
   ]
  },
  {
   "cell_type": "markdown",
   "metadata": {},
   "source": [
    "### 7.python program to sum all items in the dictionary"
   ]
  },
  {
   "cell_type": "code",
   "execution_count": 6,
   "metadata": {},
   "outputs": [
    {
     "name": "stdout",
     "output_type": "stream",
     "text": [
      "sum of items in the dictionary: 35\n"
     ]
    }
   ],
   "source": [
    "def sum(d2):\n",
    "    sum=0\n",
    "    for i in d2:\n",
    "        sum=sum+d2[i]\n",
    "    return sum\n",
    "d2={\"a\":12,\"b\":8,\"c\":15}\n",
    "print(\"sum of items in the dictionary:\",sum(d2))"
   ]
  },
  {
   "cell_type": "markdown",
   "metadata": {},
   "source": [
    "### 8.write a python script to concatenate the following dictionaries to create a new one.\n",
    "### sample dictionary\n",
    "### dic1={1:10,2:20}\n",
    "### dic2={3:30,4:40}\n",
    "### dic3={5:50,6:60}"
   ]
  },
  {
   "cell_type": "code",
   "execution_count": 7,
   "metadata": {},
   "outputs": [
    {
     "name": "stdout",
     "output_type": "stream",
     "text": [
      "{1: 10, 2: 20, 3: 30, 4: 40, 5: 50, 6: 60}\n"
     ]
    }
   ],
   "source": [
    "dic1={1:10,2:20}\n",
    "dic2={3:30,4:40}\n",
    "dic3={5:50,6:60}\n",
    "dic4={}\n",
    "for d in (dic1,dic2,dic3):\n",
    "    dic4.update(d)\n",
    "print(dic4)"
   ]
  },
  {
   "cell_type": "markdown",
   "metadata": {},
   "source": [
    "### 9.expected result:{1: 10, 2: 20, 3: 30, 4: 40, 5: 50, 6: 60}"
   ]
  },
  {
   "cell_type": "markdown",
   "metadata": {},
   "source": [
    "### 10.write a python program to create a tuple."
   ]
  },
  {
   "cell_type": "code",
   "execution_count": 8,
   "metadata": {},
   "outputs": [
    {
     "name": "stdout",
     "output_type": "stream",
     "text": [
      "(5, 10, 15, 20, 25)\n"
     ]
    }
   ],
   "source": [
    "t=5,10,15,20,25\n",
    "print(t)"
   ]
  },
  {
   "cell_type": "markdown",
   "metadata": {},
   "source": [
    "### 11.write a python program to create a tuple with different data types."
   ]
  },
  {
   "cell_type": "code",
   "execution_count": 9,
   "metadata": {},
   "outputs": [
    {
     "name": "stdout",
     "output_type": "stream",
     "text": [
      "(1, 6.9, 'hi', False)\n"
     ]
    }
   ],
   "source": [
    "t1=(1,6.9,\"hi\",False)\n",
    "print(t1)"
   ]
  },
  {
   "cell_type": "markdown",
   "metadata": {},
   "source": [
    "### 12.write a python program to convert a tuple in to a string"
   ]
  },
  {
   "cell_type": "code",
   "execution_count": 10,
   "metadata": {},
   "outputs": [
    {
     "name": "stdout",
     "output_type": "stream",
     "text": [
      "hello\n"
     ]
    }
   ],
   "source": [
    "tuple=('h','e','l','l','o')\n",
    "str=''.join(tuple)\n",
    "print(str)"
   ]
  },
  {
   "cell_type": "markdown",
   "metadata": {},
   "source": [
    "### 13. write a python program to slice a tuple."
   ]
  },
  {
   "cell_type": "code",
   "execution_count": 13,
   "metadata": {},
   "outputs": [
    {
     "name": "stdout",
     "output_type": "stream",
     "text": [
      "(5, 4)\n"
     ]
    }
   ],
   "source": [
    "t=(2,4,3,5,4,6,7,8,6,1)\n",
    "slice=t[3:5]\n",
    "print(slice)\n",
    "\n"
   ]
  },
  {
   "cell_type": "markdown",
   "metadata": {},
   "source": [
    "### 14.write a python program to find the length of a tuple."
   ]
  },
  {
   "cell_type": "code",
   "execution_count": 18,
   "metadata": {},
   "outputs": [
    {
     "name": "stdout",
     "output_type": "stream",
     "text": [
      "8\n"
     ]
    }
   ],
   "source": [
    "t3=(10,6,8,7,9,0,6,5)\n",
    "print(len(t3))\n"
   ]
  },
  {
   "cell_type": "markdown",
   "metadata": {},
   "source": [
    "### 15.write a python program to convert a tuple into a dictionary"
   ]
  },
  {
   "cell_type": "code",
   "execution_count": 1,
   "metadata": {},
   "outputs": [
    {
     "name": "stdout",
     "output_type": "stream",
     "text": [
      "{'akash': [10], 'gowtham': [12], 'ajay': [25]}\n"
     ]
    }
   ],
   "source": [
    "def convert(tup,di):\n",
    "    for a,b in tup:\n",
    "        di.setdefault(a,[]).append(b)\n",
    "    return di\n",
    "tups=[(\"akash\",10),(\"gowtham\",12),(\"ajay\",25)]\n",
    "dictionary={}\n",
    "print(convert(tups,dictionary))"
   ]
  },
  {
   "cell_type": "markdown",
   "metadata": {},
   "source": [
    "### 16.write a python program to reverse a tuple."
   ]
  },
  {
   "cell_type": "code",
   "execution_count": 2,
   "metadata": {},
   "outputs": [
    {
     "name": "stdout",
     "output_type": "stream",
     "text": [
      "(9, 8, 7, 6, 5, 4, 3, 2, 1)\n"
     ]
    }
   ],
   "source": [
    "def reverse(tuple):\n",
    "    new_tuple=tuple[::-1]\n",
    "    return new_tuple\n",
    "tuple=(1,2,3,4,5,6,7,8,9)\n",
    "print(reverse(tuple))"
   ]
  },
  {
   "cell_type": "markdown",
   "metadata": {},
   "source": [
    "### 17.write a python program to convert a list of tuples into a dictionary."
   ]
  },
  {
   "cell_type": "code",
   "execution_count": 4,
   "metadata": {},
   "outputs": [
    {
     "name": "stdout",
     "output_type": "stream",
     "text": [
      "{'x': [1], 'y': [2], 'z': [3]}\n"
     ]
    }
   ],
   "source": [
    "l=[(\"x\",1),(\"y\",2),(\"z\",3)]\n",
    "d={}\n",
    "for a,b in l:\n",
    "    d.setdefault(a, []).append(b)\n",
    "print(d)"
   ]
  },
  {
   "cell_type": "markdown",
   "metadata": {},
   "source": [
    "### 18.write a python program to convert a list in to a tuple"
   ]
  },
  {
   "cell_type": "code",
   "execution_count": 1,
   "metadata": {},
   "outputs": [
    {
     "name": "stdout",
     "output_type": "stream",
     "text": [
      "(1, 3, 4, 6, 7, 8)\n"
     ]
    }
   ],
   "source": [
    "def convert(list):\n",
    "    return tuple(list)\n",
    "list=[1,3,4,6,7,8]\n",
    "print(convert(list))"
   ]
  },
  {
   "cell_type": "code",
   "execution_count": null,
   "metadata": {},
   "outputs": [],
   "source": []
  }
 ],
 "metadata": {
  "kernelspec": {
   "display_name": "Python 3",
   "language": "python",
   "name": "python3"
  },
  "language_info": {
   "codemirror_mode": {
    "name": "ipython",
    "version": 3
   },
   "file_extension": ".py",
   "mimetype": "text/x-python",
   "name": "python",
   "nbconvert_exporter": "python",
   "pygments_lexer": "ipython3",
   "version": "3.7.4"
  }
 },
 "nbformat": 4,
 "nbformat_minor": 2
}
